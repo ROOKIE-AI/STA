{
 "cells": [
  {
   "cell_type": "markdown",
   "metadata": {},
   "source": [
    "# 二项分布"
   ]
  },
  {
   "cell_type": "code",
   "execution_count": 8,
   "metadata": {},
   "outputs": [],
   "source": [
    "import math\n",
    "from typing import Union, Tuple, List\n",
    "\n",
    "import numpy as np\n",
    "import matplotlib.pyplot as plt\n",
    "from scipy.special import comb\n",
    "import ipywidgets as widgets\n",
    "from ipywidgets import interact, interactive, HBox, VBox, Output, Layout\n",
    "%matplotlib inline"
   ]
  },
  {
   "cell_type": "markdown",
   "metadata": {},
   "source": [
    "## 二项分布函数"
   ]
  },
  {
   "cell_type": "code",
   "execution_count": 9,
   "metadata": {},
   "outputs": [],
   "source": [
    "def binomial_distribution(\n",
    "        p: float, tests_nums: int, occurrences_nums: Union[int, np.ndarray, List[int], Tuple[int]]\n",
    "        ) -> np.ndarray:\n",
    "    \"\"\"\n",
    "    二项分布\n",
    "    :params p: 发生概率\n",
    "    :params test_nums: 重复试验次数\n",
    "    :params occurrences_nums: 发生次数\n",
    "    return:\n",
    "    \n",
    "    \"\"\"\n",
    "    \n",
    "    if isinstance(occurrences_nums, int):\n",
    "        occurrences_nums = np.array([occurrences_nums, ])\n",
    "    else:\n",
    "        occurrences_nums = np.array(occurrences_nums)\n",
    "    # print(occurrences_nums)\n",
    "    # 计算二项分布\n",
    "    ret_p =  comb(tests_nums, occurrences_nums) * (p**occurrences_nums) * ((1-p)**(tests_nums - occurrences_nums))\n",
    "\n",
    "    return ret_p"
   ]
  },
  {
   "cell_type": "code",
   "execution_count": 10,
   "metadata": {},
   "outputs": [
    {
     "data": {
      "text/plain": [
       "array([0.25, 0.5 , 0.25])"
      ]
     },
     "execution_count": 10,
     "metadata": {},
     "output_type": "execute_result"
    }
   ],
   "source": [
    "p = 0.5\n",
    "test_nums = 2\n",
    "occurrences_nums = np.arange(3)\n",
    "# print(occurrences_nums)\n",
    "ret = binomial_distribution(p, test_nums, occurrences_nums)\n",
    "ret"
   ]
  },
  {
   "cell_type": "code",
   "execution_count": 11,
   "metadata": {},
   "outputs": [
    {
     "data": {
      "application/vnd.jupyter.widget-view+json": {
       "model_id": "0ba1f513c7d5404f86539d9dfa36f9cf",
       "version_major": 2,
       "version_minor": 0
      },
      "text/plain": [
       "VBox(children=(HBox(children=(Output(), Output())),))"
      ]
     },
     "metadata": {},
     "output_type": "display_data"
    },
    {
     "data": {
      "application/vnd.jupyter.widget-view+json": {
       "model_id": "f8f771088f5545f6a2b34b387fb341d6",
       "version_major": 2,
       "version_minor": 0
      },
      "text/plain": [
       "interactive(children=(FloatSlider(value=0.5, description='p', layout=Layout(width='100%'), max=1.0, step=0.01)…"
      ]
     },
     "metadata": {},
     "output_type": "display_data"
    }
   ],
   "source": [
    "\n",
    "# 创建一个输出部件，用于显示图表\n",
    "output = Output()\n",
    "# 创建一个输出部件，用于显示累计概率函数图\n",
    "cum_prob_output = Output()\n",
    "\n",
    "def plot_binomial_distribution(p, tests_nums):\n",
    "    with output:\n",
    "        output.clear_output(wait=True)\n",
    "        occurrences = np.arange(0, tests_nums + 1)\n",
    "        probabilities = binomial_distribution(p, tests_nums, occurrences)\n",
    "        \n",
    "        plt.figure(figsize=(10, 6))\n",
    "        plt.bar(occurrences, probabilities, color='blue', alpha=0.7)\n",
    "        plt.xlabel('Occurrences')\n",
    "        plt.ylabel('Probability')\n",
    "        plt.title(f'Binomial Distribution (p={p}, n={tests_nums})')\n",
    "        plt.show()\n",
    "        \n",
    "    with cum_prob_output:\n",
    "        cum_prob_output.clear_output(wait=True)\n",
    "        cum_probs = np.cumsum(probabilities)\n",
    "        \n",
    "        plt.figure(figsize=(10, 6))\n",
    "        plt.plot(occurrences, cum_probs, marker='o', linestyle='-', color='red')\n",
    "        plt.xlabel('Occurrences')\n",
    "        plt.ylabel('Cumulative Probability')\n",
    "        plt.title(f'Cumulative Binomial Distribution (p={p}, n={tests_nums})')\n",
    "        plt.grid(True)\n",
    "        plt.show()\n",
    "        \n",
    "# 交互小部件\n",
    "p_widget = widgets.FloatSlider(\n",
    "    min=0, max=1, step=0.01, value=0.5, description='p',\n",
    "    layout=Layout(width='100%')\n",
    ")\n",
    "tests_nums_widget = widgets.IntSlider(\n",
    "    min=1, max=100, step=1, value=10, description='Tests',\n",
    "    layout=Layout(width='100%')\n",
    ")\n",
    "\n",
    "# 使用interactive来创建交互部件，并将它们与绘图函数绑定\n",
    "ui = interactive(plot_binomial_distribution, p=p_widget, tests_nums=tests_nums_widget)\n",
    "\n",
    "# 显示部件和输出图表\n",
    "display(VBox([HBox([output, cum_prob_output])]), ui)"
   ]
  },
  {
   "cell_type": "markdown",
   "metadata": {},
   "source": [
    "## 伯努利分布"
   ]
  },
  {
   "cell_type": "code",
   "execution_count": 14,
   "metadata": {},
   "outputs": [
    {
     "data": {
      "image/png": "[encoded data removed]",
      "text/plain": [
       "<Figure size 640x480 with 1 Axes>"
      ]
     },
     "metadata": {},
     "output_type": "display_data"
    }
   ],
   "source": [
    "import numpy as np\n",
    "import matplotlib.pyplot as plt\n",
    "import seaborn as sns\n",
    "\n",
    "# 参数\n",
    "p = 0.3  # 成功的概率\n",
    "n = 1000  # 样本数量\n",
    "\n",
    "# 生成伯努利分布的样本\n",
    "samples = np.random.binomial(1, p, n)\n",
    "\n",
    "# 计算成功和失败的频率\n",
    "unique, counts = np.unique(samples, return_counts=True)\n",
    "frequencies = dict(zip(unique, counts))\n",
    "\n",
    "# 将频率转换为DataFrame以便使用seaborn\n",
    "import pandas as pd\n",
    "df = pd.DataFrame(list(frequencies.items()), columns=['Outcome', 'Frequency'])\n",
    "\n",
    "# 可视化伯努利分布\n",
    "sns.barplot(x='Outcome', y='Frequency', hue='Outcome', data=df, palette='Blues', dodge=False, legend=False)\n",
    "plt.xlabel('Outcome')\n",
    "plt.ylabel('Frequency')\n",
    "plt.title(f'Bernoulli Distribution (p={p})')\n",
    "plt.xticks([0, 1], ['Failure (0)', 'Success (1)'])\n",
    "plt.show()\n"
   ]
  }
 ],
 "metadata": {
  "kernelspec": {
   "display_name": "Python 3 (ipykernel)",
   "language": "python",
   "name": "python3"
  },
  "language_info": {
   "codemirror_mode": {
    "name": "ipython",
    "version": 3
   },
   "file_extension": ".py",
   "mimetype": "text/x-python",
   "name": "python",
   "nbconvert_exporter": "python",
   "pygments_lexer": "ipython3",
   "version": "3.11.9"
  }
 },
 "nbformat": 4,
 "nbformat_minor": 4
}
